{
 "cells": [
  {
   "attachments": {},
   "cell_type": "markdown",
   "metadata": {},
   "source": [
    "## GAN from Scratch"
   ]
  },
  {
   "attachments": {},
   "cell_type": "markdown",
   "metadata": {},
   "source": [
    "### Import Libraries"
   ]
  },
  {
   "cell_type": "code",
   "execution_count": 1,
   "metadata": {},
   "outputs": [],
   "source": [
    "import torch \n",
    "from torch import nn\n",
    "from torch.utils.data import DataLoader\n",
    "from torch.utils.data import Dataset\n",
    "from torchvision import datasets\n",
    "import torchvision.transforms as T # Transformation functions to manipulate images\n",
    "\n",
    "import torch.nn.functional as F # various activation functions for model\n",
    "import torchvision # You can load various Pretrained Model from this package\n",
    "# import torchvision.datasets as vision_dsets\n",
    "import torch.optim as optim # various optimization functions for model\n",
    "from torch.autograd import Variable \n",
    "# from torch.utils import data"
   ]
  },
  {
   "cell_type": "code",
   "execution_count": 2,
   "metadata": {},
   "outputs": [],
   "source": [
    "import os\n",
    "import numpy as np"
   ]
  },
  {
   "attachments": {},
   "cell_type": "markdown",
   "metadata": {},
   "source": [
    "### Visualization Setup"
   ]
  },
  {
   "cell_type": "code",
   "execution_count": 3,
   "metadata": {},
   "outputs": [
    {
     "name": "stdout",
     "output_type": "stream",
     "text": [
      "Randon Seed: 999\n"
     ]
    }
   ],
   "source": [
    "import random\n",
    "import torch.backends.cudnn as cudnn\n",
    "import matplotlib.pyplot as plt\n",
    "\n",
    "random_seed = 999\n",
    "print(f\"Randon Seed: {random_seed}\")\n",
    "random.seed(random_seed)\n",
    "torch.manual_seed(random_seed)\n",
    "torch.cuda.manual_seed(random_seed)\n",
    "torch.cuda.manual_seed_all(random_seed) # if use multi-GPU\n",
    "cudnn.benchmark = False\n",
    "cudnn.deterministic = True\n",
    "np.random.seed(random_seed) # for numpy-based backend, scikit-learn"
   ]
  },
  {
   "attachments": {},
   "cell_type": "markdown",
   "metadata": {},
   "source": [
    "### Dataset Preprocessing"
   ]
  },
  {
   "cell_type": "code",
   "execution_count": 4,
   "metadata": {},
   "outputs": [],
   "source": [
    "MNIST_dir = \"../MNIST/\"\n",
    "train_imgs_dir = os.path.join(MNIST_dir, 'train-images-idx3-ubyte')\n",
    "train_labels_dir = os.path.join(MNIST_dir, 'train-labels-idx1-ubyte')\n",
    "test_imgs_dir = os.path.join(MNIST_dir, 't10k-images-idx3-ubyte')\n",
    "test_labels_dir = os.path.join(MNIST_dir, 't10k-labels-idx1-ubyte')"
   ]
  },
  {
   "cell_type": "code",
   "execution_count": 5,
   "metadata": {},
   "outputs": [
    {
     "data": {
      "text/plain": [
       "\"\\nimport struct\\nimport matplotlib.pyplot as plt\\nimport matplotlib.cm as cm\\n\\ntrain_imgs_file = open(train_imgs_dir,'rb')\\ntrain_labels_file = open(train_labels_dir,'rb')\\ntrain_img = np.zeros((28,28))\\ntrain_label = -1\\nimg = train_imgs_file.read(16)\\nlabel = train_labels_file.read(8)\\n\\nimg = train_imgs_file.read(28*28)\\nimg = np.reshape(struct.unpack(len(img)*'B',img), (28,28))\\nlabel = train_labels_file.read(1)\\n\\nplt.imshow(img, cmap='gray') \\nplt.show()\\n\""
      ]
     },
     "execution_count": 5,
     "metadata": {},
     "output_type": "execute_result"
    }
   ],
   "source": [
    "import struct\n",
    "import matplotlib.pyplot as plt\n",
    "import matplotlib.cm as cm\n",
    "\n",
    "train_imgs_file = open(train_imgs_dir,'rb')\n",
    "train_labels_file = open(train_labels_dir,'rb')\n",
    "train_img = np.zeros((28,28))\n",
    "train_label = -1\n",
    "img = train_imgs_file.read(16)\n",
    "label = train_labels_file.read(8)\n",
    "\n",
    "img = train_imgs_file.read(28*28)\n",
    "img = np.reshape(struct.unpack(len(img)*'B',img), (28,28))\n",
    "label = train_labels_file.read(1)\n",
    "\n",
    "plt.imshow(img, cmap='gray') \n",
    "plt.show()"
   ]
  },
  {
   "attachments": {},
   "cell_type": "markdown",
   "metadata": {},
   "source": [
    "### Custom Dataset"
   ]
  },
  {
   "cell_type": "code",
   "execution_count": 6,
   "metadata": {},
   "outputs": [],
   "source": [
    "import pandas as pd\n",
    "import struct\n",
    "\n",
    "class MNISTDataset(Dataset):\n",
    "    def __init__(self, imgs_dir, labels_dir, len, transform=None, target_transform=None):\n",
    "        # open file\n",
    "        self.imgs_file = open(imgs_dir,'rb')\n",
    "        self.labels_file = open(labels_dir,'rb')\n",
    "        # initialize\n",
    "        dummy_imgs = self.imgs_file.read(16)\n",
    "        dummy_labels = self.labels_file.read(8)\n",
    "        imgs = self.imgs_file.read()\n",
    "        labels = self.labels_file.read()\n",
    "        # self.imgs = np.reshape(struct.unpack(len(imgs)*'B',imgs), (-1,28,28))\n",
    "        self.imgs = np.frombuffer(imgs, dtype=np.uint8).reshape((-1,28,28))\n",
    "        self.labels = np.frombuffer(labels,dtype=np.uint8)\n",
    "        self.len = len\n",
    "        self.transform = transform\n",
    "        self.target_transform = target_transform\n",
    "\n",
    "    def __len__(self):\n",
    "        # return length\n",
    "        # usually directly calculated from csv idx length\n",
    "        return self.len\n",
    "\n",
    "    def __getitem__(self, idx):\n",
    "        # convert file format (be careful!)\n",
    "        img = self.imgs[idx].astype(np.uint8)\n",
    "        label = int(self.labels[idx])\n",
    "        if self.transform:\n",
    "            img = self.transform(img)\n",
    "        if self.target_transform:\n",
    "            label = self.target_transform(label)\n",
    "        return img, label"
   ]
  },
  {
   "attachments": {},
   "cell_type": "markdown",
   "metadata": {},
   "source": [
    "### Transform"
   ]
  },
  {
   "cell_type": "code",
   "execution_count": 21,
   "metadata": {},
   "outputs": [
    {
     "ename": "TypeError",
     "evalue": "list is not a Module subclass",
     "output_type": "error",
     "traceback": [
      "\u001b[0;31m---------------------------------------------------------------------------\u001b[0m",
      "\u001b[0;31mTypeError\u001b[0m                                 Traceback (most recent call last)",
      "Cell \u001b[0;32mIn[21], line 5\u001b[0m\n\u001b[1;32m      1\u001b[0m \u001b[39m# PIL image or numpy array(uint8) -> float tensor ; change intensity in range [0.0, 1.1] (include normalizing)\u001b[39;00m\n\u001b[1;32m      2\u001b[0m \u001b[39m# For data aug and transforming, we can include many transform functions using nn.Sequential\u001b[39;00m\n\u001b[1;32m      3\u001b[0m \u001b[39m# Normalization is depend on channel (RGB)\u001b[39;00m\n\u001b[1;32m      4\u001b[0m transform \u001b[39m=\u001b[39m T\u001b[39m.\u001b[39mCompose([T\u001b[39m.\u001b[39mToTensor(), T\u001b[39m.\u001b[39mNormalize(mean\u001b[39m=\u001b[39m(\u001b[39m0.5\u001b[39m, \u001b[39m0.5\u001b[39m,\u001b[39m0.5\u001b[39m),std\u001b[39m=\u001b[39m(\u001b[39m0.5\u001b[39m, \u001b[39m0.5\u001b[39m,\u001b[39m0.5\u001b[39m))])\n\u001b[0;32m----> 5\u001b[0m transform \u001b[39m=\u001b[39m nn\u001b[39m.\u001b[39;49mSequential([T\u001b[39m.\u001b[39;49mToTensor(), T\u001b[39m.\u001b[39;49mNormalize(mean\u001b[39m=\u001b[39;49m(\u001b[39m0.5\u001b[39;49m, \u001b[39m0.5\u001b[39;49m,\u001b[39m0.5\u001b[39;49m),std\u001b[39m=\u001b[39;49m(\u001b[39m0.5\u001b[39;49m, \u001b[39m0.5\u001b[39;49m,\u001b[39m0.5\u001b[39;49m))])\n\u001b[1;32m      6\u001b[0m transform \u001b[39m=\u001b[39m T\u001b[39m.\u001b[39mToTensor()\n\u001b[1;32m      7\u001b[0m \u001b[39m# one-hot-vector ; make zero tensor and assign 1 on the index given by the label y\u001b[39;00m\n",
      "File \u001b[0;32m~/anaconda3/envs/ai_env/lib/python3.9/site-packages/torch/nn/modules/container.py:89\u001b[0m, in \u001b[0;36mSequential.__init__\u001b[0;34m(self, *args)\u001b[0m\n\u001b[1;32m     87\u001b[0m \u001b[39melse\u001b[39;00m:\n\u001b[1;32m     88\u001b[0m     \u001b[39mfor\u001b[39;00m idx, module \u001b[39min\u001b[39;00m \u001b[39menumerate\u001b[39m(args):\n\u001b[0;32m---> 89\u001b[0m         \u001b[39mself\u001b[39;49m\u001b[39m.\u001b[39;49madd_module(\u001b[39mstr\u001b[39;49m(idx), module)\n",
      "File \u001b[0;32m~/anaconda3/envs/ai_env/lib/python3.9/site-packages/torch/nn/modules/module.py:382\u001b[0m, in \u001b[0;36mModule.add_module\u001b[0;34m(self, name, module)\u001b[0m\n\u001b[1;32m    372\u001b[0m \u001b[39m\u001b[39m\u001b[39mr\u001b[39m\u001b[39m\"\"\"Adds a child module to the current module.\u001b[39;00m\n\u001b[1;32m    373\u001b[0m \n\u001b[1;32m    374\u001b[0m \u001b[39mThe module can be accessed as an attribute using the given name.\u001b[39;00m\n\u001b[0;32m   (...)\u001b[0m\n\u001b[1;32m    379\u001b[0m \u001b[39m    module (Module): child module to be added to the module.\u001b[39;00m\n\u001b[1;32m    380\u001b[0m \u001b[39m\"\"\"\u001b[39;00m\n\u001b[1;32m    381\u001b[0m \u001b[39mif\u001b[39;00m \u001b[39mnot\u001b[39;00m \u001b[39misinstance\u001b[39m(module, Module) \u001b[39mand\u001b[39;00m module \u001b[39mis\u001b[39;00m \u001b[39mnot\u001b[39;00m \u001b[39mNone\u001b[39;00m:\n\u001b[0;32m--> 382\u001b[0m     \u001b[39mraise\u001b[39;00m \u001b[39mTypeError\u001b[39;00m(\u001b[39m\"\u001b[39m\u001b[39m{}\u001b[39;00m\u001b[39m is not a Module subclass\u001b[39m\u001b[39m\"\u001b[39m\u001b[39m.\u001b[39mformat(\n\u001b[1;32m    383\u001b[0m         torch\u001b[39m.\u001b[39mtypename(module)))\n\u001b[1;32m    384\u001b[0m \u001b[39melif\u001b[39;00m \u001b[39mnot\u001b[39;00m \u001b[39misinstance\u001b[39m(name, torch\u001b[39m.\u001b[39m_six\u001b[39m.\u001b[39mstring_classes):\n\u001b[1;32m    385\u001b[0m     \u001b[39mraise\u001b[39;00m \u001b[39mTypeError\u001b[39;00m(\u001b[39m\"\u001b[39m\u001b[39mmodule name should be a string. Got \u001b[39m\u001b[39m{}\u001b[39;00m\u001b[39m\"\u001b[39m\u001b[39m.\u001b[39mformat(\n\u001b[1;32m    386\u001b[0m         torch\u001b[39m.\u001b[39mtypename(name)))\n",
      "\u001b[0;31mTypeError\u001b[0m: list is not a Module subclass"
     ]
    }
   ],
   "source": [
    "# PIL image or numpy array(uint8) -> float tensor ; change intensity in range [0.0, 1.1] (include normalizing)\n",
    "# For data aug and transforming, we can include many transform functions using nn.Sequential\n",
    "# Normalization is depend on channel (RGB)\n",
    "transform = T.Compose([T.ToTensor(), T.Normalize(mean=(0.5, 0.5,0.5),std=(0.5, 0.5,0.5))])\n",
    "transform = T.ToTensor()\n",
    "# one-hot-vector ; make zero tensor and assign 1 on the index given by the label y\n",
    "target_transform = T.Lambda(lambda y: torch.zeros(10, dtype=torch.float).scatter_(0,torch.tensor(y),value=1))\n",
    "\n",
    "training_data = MNISTDataset(train_imgs_dir, train_labels_dir, 60000, transform, target_transform)\n",
    "test_data = MNISTDataset(test_imgs_dir, test_labels_dir, 10000, transform, target_transform)"
   ]
  },
  {
   "cell_type": "code",
   "execution_count": 8,
   "metadata": {},
   "outputs": [
    {
     "name": "stdout",
     "output_type": "stream",
     "text": [
      "(60000, 28, 28)\n",
      "(60000,)\n"
     ]
    },
    {
     "data": {
      "text/plain": [
       "numpy.uint8"
      ]
     },
     "execution_count": 8,
     "metadata": {},
     "output_type": "execute_result"
    }
   ],
   "source": [
    "print(training_data.imgs.shape)\n",
    "print(training_data.labels.shape)\n",
    "type(training_data.labels[0])"
   ]
  },
  {
   "attachments": {},
   "cell_type": "markdown",
   "metadata": {},
   "source": [
    "### Iterating and Visulaizing the Dataset"
   ]
  },
  {
   "cell_type": "code",
   "execution_count": null,
   "metadata": {},
   "outputs": [],
   "source": [
    "import matplotlib.pyplot as plt\n",
    "figure = plt.figure(figsize=(8, 8))\n",
    "cols, rows = 3, 3\n",
    "for i in range(1, cols * rows + 1):\n",
    "    # sample_idx = torch.randint(len(training_data), size=(1,)).item()\n",
    "    sample_idx = torch.tensor([i+100])\n",
    "    img, label = training_data[sample_idx]\n",
    "    figure.add_subplot(rows, cols, i)\n",
    "    plt.title(label)\n",
    "    plt.axis(\"off\")\n",
    "    plt.imshow(img.squeeze(), cmap=\"gray\")\n",
    "plt.show()"
   ]
  },
  {
   "cell_type": "code",
   "execution_count": null,
   "metadata": {},
   "outputs": [],
   "source": [
    "img, label = training_data[5990]\n",
    "print(label)"
   ]
  },
  {
   "attachments": {},
   "cell_type": "markdown",
   "metadata": {},
   "source": [
    "### Dataloader"
   ]
  },
  {
   "cell_type": "code",
   "execution_count": 9,
   "metadata": {},
   "outputs": [],
   "source": [
    "from torch.utils.data import DataLoader\n",
    "\n",
    "train_dataloader = DataLoader(training_data, batch_size=32, shuffle=True)\n",
    "test_dataloader = DataLoader(test_data, batch_size=32, shuffle=False) # don't need to shuffle ; model.eval()"
   ]
  },
  {
   "cell_type": "code",
   "execution_count": 10,
   "metadata": {},
   "outputs": [
    {
     "data": {
      "text/plain": [
       "'\\n# Display image and label.\\ntrain_features, train_labels = next(iter(train_dataloader))\\nprint(f\"Feature batch shape: {train_features.size()}\")\\nprint(f\"Labels batch shape: {train_labels.size()}\")\\nimg = train_features[0].squeeze()\\n# print(img)\\nlabel = train_labels[0]\\nplt.imshow(img, cmap=\"gray\")\\nplt.show()\\nprint(f\"Label: {label}\")\\n'"
      ]
     },
     "execution_count": 10,
     "metadata": {},
     "output_type": "execute_result"
    }
   ],
   "source": [
    "'''\n",
    "# Display image and label.\n",
    "train_features, train_labels = next(iter(train_dataloader))\n",
    "print(f\"Feature batch shape: {train_features.size()}\")\n",
    "print(f\"Labels batch shape: {train_labels.size()}\")\n",
    "img = train_features[0].squeeze()\n",
    "# print(img)\n",
    "label = train_labels[0]\n",
    "plt.imshow(img, cmap=\"gray\")\n",
    "plt.show()\n",
    "print(f\"Label: {label}\")\n",
    "'''"
   ]
  },
  {
   "attachments": {},
   "cell_type": "markdown",
   "metadata": {},
   "source": [
    "### Build the Network"
   ]
  },
  {
   "cell_type": "code",
   "execution_count": 11,
   "metadata": {},
   "outputs": [
    {
     "name": "stdout",
     "output_type": "stream",
     "text": [
      "Using cuda device\n"
     ]
    }
   ],
   "source": [
    "device = \"cuda\" if torch.cuda.is_available() else \"cpu\"\n",
    "print(f\"Using {device} device\")"
   ]
  },
  {
   "cell_type": "code",
   "execution_count": null,
   "metadata": {},
   "outputs": [],
   "source": [
    "class NeuralNetwork(nn.Module):\n",
    "    def __init__(self):\n",
    "        super(NeuralNetwork, self).__init__()\n",
    "        self.flatten = nn.Flatten()\n",
    "        self.linear_relu_stack = nn.Sequential(\n",
    "            nn.Linear(28*28, 512),\n",
    "            nn.ReLU(),\n",
    "            nn.Linear(512, 512),\n",
    "            nn.ReLU(),\n",
    "            nn.Linear(512, 10)\n",
    "        )\n",
    "\n",
    "    def forward(self, x):\n",
    "        x = self.flatten(x)\n",
    "        logits = self.linear_relu_stack(x)\n",
    "        return logits"
   ]
  },
  {
   "cell_type": "code",
   "execution_count": null,
   "metadata": {},
   "outputs": [],
   "source": [
    "model = NeuralNetwork().to(device)\n",
    "print(model)"
   ]
  },
  {
   "attachments": {},
   "cell_type": "markdown",
   "metadata": {},
   "source": [
    "##### Discriminator"
   ]
  },
  {
   "cell_type": "code",
   "execution_count": 12,
   "metadata": {},
   "outputs": [],
   "source": [
    "class Discriminator(nn.Module):\n",
    "    def __init__(self):\n",
    "        super(Discriminator, self).__init__()\n",
    "        self.flatten = nn.Flatten()\n",
    "        self.linear_relu_stack = nn.Sequential(\n",
    "            nn.Linear(28*28, 512),\n",
    "            nn.ReLU(),\n",
    "            nn.Linear(512, 10),\n",
    "            nn.ReLU(),\n",
    "            nn.Linear(10, 1),\n",
    "            nn.Sigmoid()\n",
    "        )\n",
    "\n",
    "    def forward(self, x):\n",
    "        x = self.flatten(x)\n",
    "        logits = self.linear_relu_stack(x)\n",
    "        return logits"
   ]
  },
  {
   "attachments": {},
   "cell_type": "markdown",
   "metadata": {},
   "source": [
    "##### Generator"
   ]
  },
  {
   "cell_type": "code",
   "execution_count": 13,
   "metadata": {},
   "outputs": [],
   "source": [
    "class Generator(nn.Module):\n",
    "    def __init__(self):\n",
    "        super(Generator, self).__init__()\n",
    "        self.flatten = nn.Flatten()\n",
    "        self.linear_relu_stack = nn.Sequential(\n",
    "            nn.Linear(64, 512),\n",
    "            nn.ReLU(),\n",
    "            nn.Linear(512, 28*28),\n",
    "            # nn.Unflatten(1, torch.Size([1,28,28])),\n",
    "            nn.Tanh()\n",
    "        )\n",
    "\n",
    "    def forward(self, x):\n",
    "        x = self.flatten(x)\n",
    "        logits = self.linear_relu_stack(x)\n",
    "        return logits"
   ]
  },
  {
   "attachments": {},
   "cell_type": "markdown",
   "metadata": {},
   "source": [
    "##### Device Setting"
   ]
  },
  {
   "cell_type": "code",
   "execution_count": 14,
   "metadata": {},
   "outputs": [
    {
     "name": "stdout",
     "output_type": "stream",
     "text": [
      "Discriminator(\n",
      "  (flatten): Flatten(start_dim=1, end_dim=-1)\n",
      "  (linear_relu_stack): Sequential(\n",
      "    (0): Linear(in_features=784, out_features=512, bias=True)\n",
      "    (1): ReLU()\n",
      "    (2): Linear(in_features=512, out_features=10, bias=True)\n",
      "    (3): ReLU()\n",
      "    (4): Linear(in_features=10, out_features=1, bias=True)\n",
      "    (5): Sigmoid()\n",
      "  )\n",
      ")\n",
      "Generator(\n",
      "  (flatten): Flatten(start_dim=1, end_dim=-1)\n",
      "  (linear_relu_stack): Sequential(\n",
      "    (0): Linear(in_features=64, out_features=512, bias=True)\n",
      "    (1): ReLU()\n",
      "    (2): Linear(in_features=512, out_features=784, bias=True)\n",
      "    (3): Tanh()\n",
      "  )\n",
      ")\n"
     ]
    }
   ],
   "source": [
    "D = Discriminator().to(device)\n",
    "G = Generator().to(device)\n",
    "print(D)\n",
    "print(G)"
   ]
  },
  {
   "cell_type": "code",
   "execution_count": null,
   "metadata": {},
   "outputs": [],
   "source": [
    "X = torch.rand(1, 28, 28, device=device)\n",
    "logits = model(X)\n",
    "pred_probab = nn.Softmax(dim=1)(logits)\n",
    "y_pred = pred_probab.argmax(1)\n",
    "print(f\"Predicted class: {y_pred}\")"
   ]
  },
  {
   "cell_type": "code",
   "execution_count": null,
   "metadata": {},
   "outputs": [],
   "source": [
    "print(f\"Model structure: {model}\\n\\n\")\n",
    "\n",
    "for name, param in model.named_parameters():\n",
    "    print(f\"Layer: {name} | Size: {param.size()} | Values : {param[:2]} \\n\")"
   ]
  },
  {
   "attachments": {},
   "cell_type": "markdown",
   "metadata": {},
   "source": [
    "## Optimizing and Model Parameters"
   ]
  },
  {
   "attachments": {},
   "cell_type": "markdown",
   "metadata": {},
   "source": [
    "### Hyperparameters"
   ]
  },
  {
   "cell_type": "code",
   "execution_count": 15,
   "metadata": {},
   "outputs": [],
   "source": [
    "learning_rate = 1e-4\n",
    "batch_size = 32\n",
    "epochs = 5"
   ]
  },
  {
   "attachments": {},
   "cell_type": "markdown",
   "metadata": {},
   "source": [
    "### Optimization Loop"
   ]
  },
  {
   "attachments": {},
   "cell_type": "markdown",
   "metadata": {},
   "source": [
    "##### Simple Neural Network"
   ]
  },
  {
   "cell_type": "code",
   "execution_count": 16,
   "metadata": {},
   "outputs": [],
   "source": [
    "def train_loop(dataloader, model, loss_fn, optimizer):\n",
    "    model.train()\n",
    "    size = len(dataloader.dataset)\n",
    "    for batch, (X, y) in enumerate(dataloader):\n",
    "        # Compute prediction and loss\n",
    "        X = X.to(device)\n",
    "        pred = model(X).to(device)\n",
    "        y = y.to(device)\n",
    "        loss = loss_fn(pred, y)\n",
    "\n",
    "        # Backpropagation\n",
    "        optimizer.zero_grad()\n",
    "        loss.backward()\n",
    "        optimizer.step()\n",
    "        # print(f\"batch: {batch}, x: {X.size()}, y: {y.size()}\")\n",
    "        if batch % 100 == 0:\n",
    "            loss, current = loss.item(), batch * len(X)\n",
    "            print(f\"loss: {loss:>7f}  [{current:>5d}/{size:>5d}]\")\n",
    "\n",
    "\n",
    "def test_loop(dataloader, model, loss_fn):\n",
    "    model.eval()\n",
    "    size = len(dataloader.dataset)\n",
    "    num_batches = len(dataloader)\n",
    "    test_loss, correct = 0, 0\n",
    "\n",
    "    with torch.no_grad():\n",
    "        for batch, (X, y) in enumerate(dataloader):\n",
    "            X = X.to(device)\n",
    "            pred = model(X).to(device)\n",
    "            y = y.to(device)\n",
    "            test_loss += loss_fn(pred, y).item()\n",
    "            correct += (pred.argmax(1) == y.max(1).indices).type(torch.float).sum().item()\n",
    "\n",
    "    test_loss /= num_batches\n",
    "    correct /= size\n",
    "    print(f\"Test Error: \\n Accuracy: {(100*correct):>0.1f}%, Avg loss: {test_loss:>8f} \\n\")"
   ]
  },
  {
   "cell_type": "code",
   "execution_count": 17,
   "metadata": {},
   "outputs": [
    {
     "ename": "NameError",
     "evalue": "name 'model' is not defined",
     "output_type": "error",
     "traceback": [
      "\u001b[0;31m---------------------------------------------------------------------------\u001b[0m",
      "\u001b[0;31mNameError\u001b[0m                                 Traceback (most recent call last)",
      "Cell \u001b[0;32mIn[17], line 2\u001b[0m\n\u001b[1;32m      1\u001b[0m loss_fn \u001b[39m=\u001b[39m nn\u001b[39m.\u001b[39mCrossEntropyLoss()\n\u001b[0;32m----> 2\u001b[0m optimizer \u001b[39m=\u001b[39m torch\u001b[39m.\u001b[39moptim\u001b[39m.\u001b[39mSGD(model\u001b[39m.\u001b[39mparameters(), lr\u001b[39m=\u001b[39mlearning_rate)\n\u001b[1;32m      4\u001b[0m \u001b[39mfor\u001b[39;00m t \u001b[39min\u001b[39;00m \u001b[39mrange\u001b[39m(epochs):\n\u001b[1;32m      5\u001b[0m     \u001b[39mprint\u001b[39m(\u001b[39mf\u001b[39m\u001b[39m\"\u001b[39m\u001b[39mEpoch \u001b[39m\u001b[39m{\u001b[39;00mt\u001b[39m+\u001b[39m\u001b[39m1\u001b[39m\u001b[39m}\u001b[39;00m\u001b[39m\\n\u001b[39;00m\u001b[39m-------------------------------\u001b[39m\u001b[39m\"\u001b[39m)\n",
      "\u001b[0;31mNameError\u001b[0m: name 'model' is not defined"
     ]
    }
   ],
   "source": [
    "loss_fn = nn.CrossEntropyLoss()\n",
    "optimizer = torch.optim.SGD(model.parameters(), lr=learning_rate)\n",
    "\n",
    "for t in range(epochs):\n",
    "    print(f\"Epoch {t+1}\\n-------------------------------\")\n",
    "    # model.train()\n",
    "    train_loop(train_dataloader, model, loss_fn, optimizer)\n",
    "    # model.eval()\n",
    "    # test_loop(test_dataloader, model, loss_fn)\n",
    "print(\"Done!\")"
   ]
  },
  {
   "attachments": {},
   "cell_type": "markdown",
   "metadata": {},
   "source": [
    "##### GAN"
   ]
  },
  {
   "cell_type": "code",
   "execution_count": 18,
   "metadata": {},
   "outputs": [],
   "source": [
    "def train_loop(dataloader, d_model, g_model, loss_fn, d_optimizer, g_optimizer):\n",
    "    d_model.train()\n",
    "    g_model.train()\n",
    "    size = len(dataloader.dataset)\n",
    "    for batch, (X, _) in enumerate(dataloader):\n",
    "        X = X.to(device)\n",
    "        real_labels = torch.ones(batch_size, 1).to(device)\n",
    "        fake_labels = torch.zeros(batch_size, 1).to(device)\n",
    "        #################\n",
    "        # Discriminator #\n",
    "        #################\n",
    "        \n",
    "        # Compute prediction and loss\n",
    "        pred_from_real = d_model(X).to(device)\n",
    "        d_real_loss = loss_fn(pred_from_real, real_labels)\n",
    "\n",
    "        z = torch.randn((batch_size, 64), device=device, requires_grad=True)\n",
    "        pred_from_fake = d_model(g_model(z)).to(device)\n",
    "        d_fake_loss = loss_fn(pred_from_fake, fake_labels)\n",
    "        \n",
    "        d_pred = pred_from_real + pred_from_fake # score\n",
    "        d_loss = d_real_loss + d_fake_loss\n",
    "        \n",
    "        # Backpropagation\n",
    "        d_optimizer.zero_grad()\n",
    "        g_optimizer.zero_grad()\n",
    "        d_loss.backward()\n",
    "        d_optimizer.step()\n",
    "        \n",
    "        #################\n",
    "        #   Generator   #\n",
    "        #################\n",
    "        \n",
    "        # Compute prediction and loss\n",
    "        z = torch.randn(batch_size, 64, device=device, requires_grad=True)\n",
    "        g_pred = d_model(g_model(z)).to(device)\n",
    "        g_loss = loss_fn(g_pred, real_labels)\n",
    "        \n",
    "        d_optimizer.zero_grad()\n",
    "        g_optimizer.zero_grad()\n",
    "        g_loss.backward()\n",
    "        g_optimizer.step()\n",
    "        \n",
    "        # print(f\"batch: {batch}, x: {X.size()}, y: {y.size()}\")\n",
    "        if batch % 100 == 0:\n",
    "            # print(type(d_loss))\n",
    "            current = (batch+1) * len(X)\n",
    "            print(f\"d_loss: {d_loss}, g_loss: {g_loss}   [{current:>5d}/{size:>5d}]\")\n",
    "            \n",
    "\n",
    "def test_loop(dataloader, d_model, g_model, loss_fn, d_optimizer, g_optimizer):\n",
    "    d_model.eval()\n",
    "    g_model.eval()\n",
    "    size = len(dataloader.dataset)\n",
    "    num_batches = len(dataloader)\n",
    "    test_loss, correct = 0, 0\n",
    "\n",
    "    with torch.no_grad():\n",
    "        for batch, (X, _) in enumerate(dataloader):\n",
    "            if batch == 0:\n",
    "                X = X.to(device)\n",
    "                real_pred = d_model(X).to(device)\n",
    "                \n",
    "                z = torch.randn(batch_size, 64, device=device)\n",
    "                fake_img = g_model(z).to(device)\n",
    "                fake_pred = d_model(fake_img).to(device)\n",
    "            else:\n",
    "                continue"
   ]
  },
  {
   "cell_type": "code",
   "execution_count": 19,
   "metadata": {},
   "outputs": [
    {
     "data": {
      "image/png": "[encoded data removed]",
      "text/plain": [
       "<Figure size 800x800 with 9 Axes>"
      ]
     },
     "metadata": {},
     "output_type": "display_data"
    }
   ],
   "source": [
    "import matplotlib.pyplot as plt\n",
    "figure = plt.figure(figsize=(8, 8))\n",
    "cols, rows = 3, 3\n",
    "for i in range(1, cols * rows + 1):\n",
    "    # sample_idx = torch.randint(len(training_data), size=(1,)).item()\n",
    "    sample_idx = torch.tensor([i+100])\n",
    "    img, label = training_data[sample_idx]\n",
    "    figure.add_subplot(rows, cols, i)\n",
    "    plt.title(label)\n",
    "    plt.axis(\"off\")\n",
    "    plt.imshow(img.squeeze(), cmap=\"gray\")\n",
    "plt.show()"
   ]
  },
  {
   "cell_type": "code",
   "execution_count": 20,
   "metadata": {},
   "outputs": [
    {
     "name": "stdout",
     "output_type": "stream",
     "text": [
      "Epoch 1\n",
      "-------------------------------\n",
      "d_loss: 1.3827431201934814, g_loss: 0.7267686724662781   [    0/60000]\n",
      "d_loss: 1.3804008960723877, g_loss: 0.7258186340332031   [ 3200/60000]\n",
      "d_loss: 1.3784444332122803, g_loss: 0.7273058891296387   [ 6400/60000]\n",
      "d_loss: 1.3752657175064087, g_loss: 0.7281578779220581   [ 9600/60000]\n",
      "d_loss: 1.375802993774414, g_loss: 0.7272291779518127   [12800/60000]\n",
      "d_loss: 1.3722286224365234, g_loss: 0.7263746857643127   [16000/60000]\n",
      "d_loss: 1.3712382316589355, g_loss: 0.7271057367324829   [19200/60000]\n",
      "d_loss: 1.3708624839782715, g_loss: 0.7242575287818909   [22400/60000]\n",
      "d_loss: 1.3645436763763428, g_loss: 0.7270920276641846   [25600/60000]\n",
      "d_loss: 1.3659586906433105, g_loss: 0.7263577580451965   [28800/60000]\n",
      "d_loss: 1.3610713481903076, g_loss: 0.7250024080276489   [32000/60000]\n",
      "d_loss: 1.3586312532424927, g_loss: 0.7252992391586304   [35200/60000]\n",
      "d_loss: 1.3565764427185059, g_loss: 0.7251865863800049   [38400/60000]\n",
      "d_loss: 1.3565078973770142, g_loss: 0.7265958786010742   [41600/60000]\n",
      "d_loss: 1.3510746955871582, g_loss: 0.7258903384208679   [44800/60000]\n",
      "d_loss: 1.347710371017456, g_loss: 0.7241277694702148   [48000/60000]\n",
      "d_loss: 1.3532357215881348, g_loss: 0.7248097658157349   [51200/60000]\n",
      "d_loss: 1.3424961566925049, g_loss: 0.7258940935134888   [54400/60000]\n",
      "d_loss: 1.339125633239746, g_loss: 0.7244867086410522   [57600/60000]\n",
      "Epoch 2\n",
      "-------------------------------\n",
      "d_loss: 1.3450093269348145, g_loss: 0.7248629331588745   [    0/60000]\n",
      "d_loss: 1.334975004196167, g_loss: 0.7239719033241272   [ 3200/60000]\n",
      "d_loss: 1.334714651107788, g_loss: 0.7244644165039062   [ 6400/60000]\n",
      "d_loss: 1.3329880237579346, g_loss: 0.7248159646987915   [ 9600/60000]\n",
      "d_loss: 1.3305027484893799, g_loss: 0.7249405980110168   [12800/60000]\n",
      "d_loss: 1.3227591514587402, g_loss: 0.7243412137031555   [16000/60000]\n",
      "d_loss: 1.3185728788375854, g_loss: 0.7249290943145752   [19200/60000]\n",
      "d_loss: 1.3213613033294678, g_loss: 0.7272472977638245   [22400/60000]\n",
      "d_loss: 1.3174967765808105, g_loss: 0.723496675491333   [25600/60000]\n",
      "d_loss: 1.3156399726867676, g_loss: 0.7248263359069824   [28800/60000]\n",
      "d_loss: 1.307794451713562, g_loss: 0.7231436967849731   [32000/60000]\n",
      "d_loss: 1.3061305284500122, g_loss: 0.7236148118972778   [35200/60000]\n",
      "d_loss: 1.3045430183410645, g_loss: 0.7243288159370422   [38400/60000]\n",
      "d_loss: 1.2938039302825928, g_loss: 0.7248695492744446   [41600/60000]\n",
      "d_loss: 1.2913343906402588, g_loss: 0.7229540944099426   [44800/60000]\n",
      "d_loss: 1.290391445159912, g_loss: 0.7233460545539856   [48000/60000]\n",
      "d_loss: 1.280078411102295, g_loss: 0.7254700064659119   [51200/60000]\n",
      "d_loss: 1.277026653289795, g_loss: 0.7260398268699646   [54400/60000]\n",
      "d_loss: 1.2722054719924927, g_loss: 0.7222692966461182   [57600/60000]\n",
      "Epoch 3\n",
      "-------------------------------\n",
      "d_loss: 1.2712422609329224, g_loss: 0.7274841070175171   [    0/60000]\n",
      "d_loss: 1.2495489120483398, g_loss: 0.7244041562080383   [ 3200/60000]\n",
      "d_loss: 1.2499346733093262, g_loss: 0.7238791584968567   [ 6400/60000]\n",
      "d_loss: 1.2464406490325928, g_loss: 0.7219856977462769   [ 9600/60000]\n",
      "d_loss: 1.2232471704483032, g_loss: 0.7261027097702026   [12800/60000]\n",
      "d_loss: 1.2330186367034912, g_loss: 0.7275644540786743   [16000/60000]\n",
      "d_loss: 1.2327802181243896, g_loss: 0.7239431142807007   [19200/60000]\n",
      "d_loss: 1.2165944576263428, g_loss: 0.7282543778419495   [22400/60000]\n",
      "d_loss: 1.2251842021942139, g_loss: 0.7269262075424194   [25600/60000]\n",
      "d_loss: 1.2178568840026855, g_loss: 0.7262721061706543   [28800/60000]\n",
      "d_loss: 1.2123355865478516, g_loss: 0.7249011993408203   [32000/60000]\n",
      "d_loss: 1.1935845613479614, g_loss: 0.7320444583892822   [35200/60000]\n",
      "d_loss: 1.1809905767440796, g_loss: 0.7299650311470032   [38400/60000]\n",
      "d_loss: 1.1728849411010742, g_loss: 0.7303543090820312   [41600/60000]\n",
      "d_loss: 1.151719331741333, g_loss: 0.7346956729888916   [44800/60000]\n",
      "d_loss: 1.143273949623108, g_loss: 0.7289885878562927   [48000/60000]\n",
      "d_loss: 1.1361072063446045, g_loss: 0.7279411554336548   [51200/60000]\n",
      "d_loss: 1.1458989381790161, g_loss: 0.7366653680801392   [54400/60000]\n",
      "d_loss: 1.1275427341461182, g_loss: 0.730609655380249   [57600/60000]\n",
      "Epoch 4\n",
      "-------------------------------\n",
      "d_loss: 1.1143889427185059, g_loss: 0.7358855605125427   [    0/60000]\n",
      "d_loss: 1.116438388824463, g_loss: 0.7352501153945923   [ 3200/60000]\n",
      "d_loss: 1.1079425811767578, g_loss: 0.7377370595932007   [ 6400/60000]\n",
      "d_loss: 1.1258635520935059, g_loss: 0.7345725297927856   [ 9600/60000]\n",
      "d_loss: 1.0871678590774536, g_loss: 0.7415682077407837   [12800/60000]\n",
      "d_loss: 1.0785245895385742, g_loss: 0.7420539259910583   [16000/60000]\n",
      "d_loss: 1.0751466751098633, g_loss: 0.7428010702133179   [19200/60000]\n",
      "d_loss: 1.0527117252349854, g_loss: 0.7434439063072205   [22400/60000]\n",
      "d_loss: 1.0528041124343872, g_loss: 0.7484291195869446   [25600/60000]\n",
      "d_loss: 1.0489246845245361, g_loss: 0.7485542297363281   [28800/60000]\n",
      "d_loss: 1.0207710266113281, g_loss: 0.747543215751648   [32000/60000]\n",
      "d_loss: 1.0319914817810059, g_loss: 0.7477686405181885   [35200/60000]\n",
      "d_loss: 1.0263832807540894, g_loss: 0.751564621925354   [38400/60000]\n",
      "d_loss: 1.0281343460083008, g_loss: 0.7506773471832275   [41600/60000]\n",
      "d_loss: 1.0039169788360596, g_loss: 0.752981424331665   [44800/60000]\n",
      "d_loss: 1.0076029300689697, g_loss: 0.7517046928405762   [48000/60000]\n",
      "d_loss: 0.973233163356781, g_loss: 0.7549031972885132   [51200/60000]\n",
      "d_loss: 0.974005937576294, g_loss: 0.757260262966156   [54400/60000]\n",
      "d_loss: 0.9910233616828918, g_loss: 0.7626953125   [57600/60000]\n",
      "Epoch 5\n",
      "-------------------------------\n",
      "d_loss: 0.9825337529182434, g_loss: 0.7616281509399414   [    0/60000]\n",
      "d_loss: 0.9542096257209778, g_loss: 0.7641876935958862   [ 3200/60000]\n",
      "d_loss: 0.9462557435035706, g_loss: 0.7637827396392822   [ 6400/60000]\n",
      "d_loss: 0.9504148364067078, g_loss: 0.7678003311157227   [ 9600/60000]\n",
      "d_loss: 0.9496889710426331, g_loss: 0.7664567232131958   [12800/60000]\n",
      "d_loss: 0.9118807911872864, g_loss: 0.7673760652542114   [16000/60000]\n",
      "d_loss: 0.9233756065368652, g_loss: 0.7684365510940552   [19200/60000]\n",
      "d_loss: 0.9198648929595947, g_loss: 0.7708696126937866   [22400/60000]\n",
      "d_loss: 0.906366765499115, g_loss: 0.7702282667160034   [25600/60000]\n",
      "d_loss: 0.924277663230896, g_loss: 0.7766035795211792   [28800/60000]\n",
      "d_loss: 0.8957754373550415, g_loss: 0.7791281938552856   [32000/60000]\n",
      "d_loss: 0.9127824306488037, g_loss: 0.7749466896057129   [35200/60000]\n",
      "d_loss: 0.8914825916290283, g_loss: 0.7840293645858765   [38400/60000]\n",
      "d_loss: 0.8516762852668762, g_loss: 0.7839617133140564   [41600/60000]\n",
      "d_loss: 0.8793376684188843, g_loss: 0.779412031173706   [44800/60000]\n",
      "d_loss: 0.8602643013000488, g_loss: 0.7851346731185913   [48000/60000]\n",
      "d_loss: 0.853316068649292, g_loss: 0.7895863056182861   [51200/60000]\n",
      "d_loss: 0.8403698205947876, g_loss: 0.7916797399520874   [54400/60000]\n",
      "d_loss: 0.8656073808670044, g_loss: 0.7857934236526489   [57600/60000]\n",
      "Done!\n"
     ]
    }
   ],
   "source": [
    "loss_fn = nn.BCELoss()\n",
    "discriminator_optimizer = torch.optim.SGD(D.parameters(), lr=learning_rate)\n",
    "generator_optimizer = torch.optim.SGD(G.parameters(), lr=learning_rate)\n",
    "for t in range(epochs):\n",
    "    print(f\"Epoch {t+1}\\n-------------------------------\")\n",
    "    # model.train()\n",
    "    train_loop(train_dataloader, D, G, loss_fn, discriminator_optimizer, generator_optimizer)\n",
    "    # model.eval()\n",
    "    # test_loop(test_dataloader, model, loss_fn)\n",
    "print(\"Done!\")"
   ]
  },
  {
   "cell_type": "code",
   "execution_count": null,
   "metadata": {},
   "outputs": [],
   "source": []
  }
 ],
 "metadata": {
  "kernelspec": {
   "display_name": "ai_env",
   "language": "python",
   "name": "python3"
  },
  "language_info": {
   "codemirror_mode": {
    "name": "ipython",
    "version": 3
   },
   "file_extension": ".py",
   "mimetype": "text/x-python",
   "name": "python",
   "nbconvert_exporter": "python",
   "pygments_lexer": "ipython3",
   "version": "3.9.15"
  },
  "orig_nbformat": 4,
  "vscode": {
   "interpreter": {
    "hash": "bf814a7d7f7678a8782107eccf8ed4be5b91f2df67a169dae8657527f726006e"
   }
  }
 },
 "nbformat": 4,
 "nbformat_minor": 2
}
