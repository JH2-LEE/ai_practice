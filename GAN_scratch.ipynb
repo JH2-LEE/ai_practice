{
 "cells": [
  {
   "attachments": {},
   "cell_type": "markdown",
   "metadata": {},
   "source": [
    "## GAN from Scratch"
   ]
  },
  {
   "attachments": {},
   "cell_type": "markdown",
   "metadata": {},
   "source": [
    "### Import Libraries"
   ]
  },
  {
   "cell_type": "code",
   "execution_count": null,
   "metadata": {},
   "outputs": [],
   "source": [
    "import torch \n",
    "from torch import nn\n",
    "from torch.utils.data import DataLoader\n",
    "from torch.utils.data import Dataset\n",
    "from torchvision import datasets\n",
    "import torchvision.transforms as T # Transformation functions to manipulate images\n",
    "\n",
    "import torch.nn.functional as F # various activation functions for model\n",
    "import torchvision # You can load various Pretrained Model from this package\n",
    "# import torchvision.datasets as vision_dsets\n",
    "import torch.optim as optim # various optimization functions for model\n",
    "from torch.autograd import Variable \n",
    "# from torch.utils import data"
   ]
  },
  {
   "cell_type": "code",
   "execution_count": null,
   "metadata": {},
   "outputs": [],
   "source": [
    "import os\n",
    "import numpy as np"
   ]
  },
  {
   "attachments": {},
   "cell_type": "markdown",
   "metadata": {},
   "source": [
    "### Visualization Setup"
   ]
  },
  {
   "cell_type": "code",
   "execution_count": null,
   "metadata": {},
   "outputs": [],
   "source": [
    "import random\n",
    "import torch.backends.cudnn as cudnn\n",
    "import matplotlib.pyplot as plt\n",
    "\n",
    "random_seed = 999\n",
    "print(f\"Randon Seed: {random_seed}\")\n",
    "random.seed(random_seed)\n",
    "torch.manual_seed(random_seed)\n",
    "torch.cuda.manual_seed(random_seed)\n",
    "torch.cuda.manual_seed_all(random_seed) # if use multi-GPU\n",
    "cudnn.benchmark = False\n",
    "cudnn.deterministic = True\n",
    "np.random.seed(random_seed) # for numpy-based backend, scikit-learn"
   ]
  },
  {
   "attachments": {},
   "cell_type": "markdown",
   "metadata": {},
   "source": [
    "### Dataset Preprocessing"
   ]
  },
  {
   "cell_type": "code",
   "execution_count": null,
   "metadata": {},
   "outputs": [],
   "source": [
    "MNIST_dir = \"../MNIST/\"\n",
    "train_imgs_dir = os.path.join(MNIST_dir, 'train-images-idx3-ubyte')\n",
    "train_labels_dir = os.path.join(MNIST_dir, 'train-labels-idx1-ubyte')\n",
    "test_imgs_dir = os.path.join(MNIST_dir, 't10k-images-idx3-ubyte')\n",
    "test_labels_dir = os.path.join(MNIST_dir, 't10k-labels-idx1-ubyte')"
   ]
  },
  {
   "cell_type": "code",
   "execution_count": null,
   "metadata": {},
   "outputs": [],
   "source": [
    "import struct\n",
    "import matplotlib.pyplot as plt\n",
    "import matplotlib.cm as cm\n",
    "\n",
    "train_imgs_file = open(train_imgs_dir,'rb')\n",
    "train_labels_file = open(train_labels_dir,'rb')\n",
    "train_img = np.zeros((28,28))\n",
    "train_label = -1\n",
    "img = train_imgs_file.read(16)\n",
    "label = train_labels_file.read(8)\n",
    "\n",
    "img = train_imgs_file.read(28*28)\n",
    "img = np.reshape(struct.unpack(len(img)*'B',img), (28,28))\n",
    "label = train_labels_file.read(1)\n",
    "\n",
    "plt.imshow(img, cmap='gray') \n",
    "plt.show()"
   ]
  },
  {
   "attachments": {},
   "cell_type": "markdown",
   "metadata": {},
   "source": [
    "### Custom Dataset"
   ]
  },
  {
   "cell_type": "code",
   "execution_count": null,
   "metadata": {},
   "outputs": [],
   "source": [
    "import pandas as pd\n",
    "import struct\n",
    "\n",
    "class MNISTDataset(Dataset):\n",
    "    def __init__(self, imgs_dir, labels_dir, len, transform=None, target_transform=None):\n",
    "        # open file\n",
    "        self.imgs_file = open(imgs_dir,'rb')\n",
    "        self.labels_file = open(labels_dir,'rb')\n",
    "        # initialize\n",
    "        dummy_imgs = self.imgs_file.read(16)\n",
    "        dummy_labels = self.labels_file.read(8)\n",
    "        imgs = self.imgs_file.read()\n",
    "        labels = self.labels_file.read()\n",
    "        # self.imgs = np.reshape(struct.unpack(len(imgs)*'B',imgs), (-1,28,28))\n",
    "        self.imgs = np.frombuffer(imgs, dtype=np.uint8).reshape((-1,28,28))\n",
    "        self.labels = np.frombuffer(labels,dtype=np.uint8)\n",
    "        self.len = len\n",
    "        self.transform = transform\n",
    "        self.target_transform = target_transform\n",
    "\n",
    "    def __len__(self):\n",
    "        # return length\n",
    "        # usually directly calculated from csv idx length\n",
    "        return self.len\n",
    "\n",
    "    def __getitem__(self, idx):\n",
    "        # convert file format (be careful!)\n",
    "        img = self.imgs[idx].astype(np.uint8)\n",
    "        label = int(self.labels[idx])\n",
    "        if self.transform:\n",
    "            img = self.transform(img)\n",
    "        if self.target_transform:\n",
    "            label = self.target_transform(label)\n",
    "        return img, label"
   ]
  },
  {
   "attachments": {},
   "cell_type": "markdown",
   "metadata": {},
   "source": [
    "### Transform"
   ]
  },
  {
   "cell_type": "code",
   "execution_count": null,
   "metadata": {},
   "outputs": [],
   "source": [
    "# PIL image or numpy array(uint8) -> float tensor ; change intensity in range [0.0, 1.1] (include normalizing)\n",
    "# For data aug and transforming, we can include many transform functions using nn.Sequential\n",
    "# Normalization is depend on channel (RGB)\n",
    "transform = T.Compose([T.ToTensor(), T.Normalize(mean=(0.5, 0.5,0.5),std=(0.5, 0.5,0.5))])\n",
    "transform = T.ToTensor()\n",
    "# one-hot-vector ; make zero tensor and assign 1 on the index given by the label y\n",
    "target_transform = T.Lambda(lambda y: torch.zeros(10, dtype=torch.float).scatter_(0,torch.tensor(y),value=1))\n",
    "\n",
    "training_data = MNISTDataset(train_imgs_dir, train_labels_dir, 60000, transform, target_transform)\n",
    "test_data = MNISTDataset(test_imgs_dir, test_labels_dir, 10000, transform, target_transform)"
   ]
  },
  {
   "cell_type": "code",
   "execution_count": null,
   "metadata": {},
   "outputs": [],
   "source": [
    "print(training_data.imgs.shape)\n",
    "print(training_data.labels.shape)\n",
    "type(training_data.labels[0])"
   ]
  },
  {
   "attachments": {},
   "cell_type": "markdown",
   "metadata": {},
   "source": [
    "### Iterating and Visulaizing the Dataset"
   ]
  },
  {
   "cell_type": "code",
   "execution_count": null,
   "metadata": {},
   "outputs": [],
   "source": [
    "import matplotlib.pyplot as plt \n",
    "figure = plt.figure(figsize=(8, 8))\n",
    "cols, rows = 3, 3\n",
    "for i in range(1, cols * rows + 1):\n",
    "    # sample_idx = torch.randint(len(training_data), size=(1,)).item()\n",
    "    sample_idx = torch.tensor([i+100])\n",
    "    img, label = training_data[sample_idx]\n",
    "    figure.add_subplot(rows, cols, i)\n",
    "    plt.title(label)\n",
    "    plt.axis(\"off\")\n",
    "    plt.imshow(img.squeeze(), cmap=\"gray\")\n",
    "plt.show()"
   ]
  },
  {
   "cell_type": "code",
   "execution_count": null,
   "metadata": {},
   "outputs": [],
   "source": [
    "img, label = training_data[5990]\n",
    "print(label)"
   ]
  },
  {
   "attachments": {},
   "cell_type": "markdown",
   "metadata": {},
   "source": [
    "### Dataloader"
   ]
  },
  {
   "cell_type": "code",
   "execution_count": null,
   "metadata": {},
   "outputs": [],
   "source": [
    "from torch.utils.data import DataLoader\n",
    "\n",
    "train_dataloader = DataLoader(training_data, batch_size=32, shuffle=True)\n",
    "test_dataloader = DataLoader(test_data, batch_size=32, shuffle=False) # don't need to shuffle ; model.eval()"
   ]
  },
  {
   "cell_type": "code",
   "execution_count": null,
   "metadata": {},
   "outputs": [],
   "source": [
    "\n",
    "# Display image and label.\n",
    "train_features, train_labels = next(iter(train_dataloader))\n",
    "print(f\"Feature batch shape: {train_features.size()}\")\n",
    "print(f\"Labels batch shape: {train_labels.size()}\")\n",
    "img = train_features[0].squeeze()\n",
    "# print(img)\n",
    "label = train_labels[0]\n",
    "plt.imshow(img, cmap=\"gray\")\n",
    "plt.show()\n",
    "print(f\"Label: {label}\")\n"
   ]
  },
  {
   "attachments": {},
   "cell_type": "markdown",
   "metadata": {},
   "source": [
    "### Build the Network"
   ]
  },
  {
   "cell_type": "code",
   "execution_count": null,
   "metadata": {},
   "outputs": [],
   "source": [
    "device = \"cuda\" if torch.cuda.is_available() else \"cpu\"\n",
    "print(f\"Using {device} device\")"
   ]
  },
  {
   "cell_type": "code",
   "execution_count": null,
   "metadata": {},
   "outputs": [],
   "source": [
    "class NeuralNetwork(nn.Module):\n",
    "    def __init__(self):\n",
    "        super(NeuralNetwork, self).__init__()\n",
    "        self.flatten = nn.Flatten()\n",
    "        self.linear_relu_stack = nn.Sequential(\n",
    "            nn.Linear(28*28, 512),\n",
    "            nn.ReLU(),\n",
    "            nn.Linear(512, 512),\n",
    "            nn.ReLU(),\n",
    "            nn.Linear(512, 10)\n",
    "        )\n",
    "\n",
    "    def forward(self, x):\n",
    "        x = self.flatten(x)\n",
    "        logits = self.linear_relu_stack(x)\n",
    "        return logits"
   ]
  },
  {
   "cell_type": "code",
   "execution_count": null,
   "metadata": {},
   "outputs": [],
   "source": [
    "model = NeuralNetwork().to(device)\n",
    "print(model)"
   ]
  },
  {
   "attachments": {},
   "cell_type": "markdown",
   "metadata": {},
   "source": [
    "##### Discriminator"
   ]
  },
  {
   "cell_type": "code",
   "execution_count": null,
   "metadata": {},
   "outputs": [],
   "source": [
    "class Discriminator(nn.Module):\n",
    "    def __init__(self):\n",
    "        super(Discriminator, self).__init__()\n",
    "        self.flatten = nn.Flatten()\n",
    "        self.linear_relu_stack = nn.Sequential(\n",
    "            nn.Linear(28*28, 512),\n",
    "            nn.ReLU(),\n",
    "            nn.Linear(512, 10),\n",
    "            nn.ReLU(),\n",
    "            nn.Linear(10, 1),\n",
    "            nn.Sigmoid()\n",
    "        )\n",
    "\n",
    "    def forward(self, x):\n",
    "        x = self.flatten(x)\n",
    "        logits = self.linear_relu_stack(x)\n",
    "        return logits"
   ]
  },
  {
   "attachments": {},
   "cell_type": "markdown",
   "metadata": {},
   "source": [
    "##### Generator"
   ]
  },
  {
   "cell_type": "code",
   "execution_count": null,
   "metadata": {},
   "outputs": [],
   "source": [
    "class Generator(nn.Module):\n",
    "    def __init__(self):\n",
    "        super(Generator, self).__init__()\n",
    "        self.flatten = nn.Flatten()\n",
    "        self.linear_relu_stack = nn.Sequential(\n",
    "            nn.Linear(64, 512),\n",
    "            nn.ReLU(),\n",
    "            nn.Linear(512, 28*28),\n",
    "            # nn.Unflatten(1, torch.Size([1,28,28])),\n",
    "            nn.Tanh()\n",
    "        )\n",
    "\n",
    "    def forward(self, x):\n",
    "        x = self.flatten(x)\n",
    "        logits = self.linear_relu_stack(x)\n",
    "        return logits"
   ]
  },
  {
   "attachments": {},
   "cell_type": "markdown",
   "metadata": {},
   "source": [
    "##### Device Setting"
   ]
  },
  {
   "cell_type": "code",
   "execution_count": null,
   "metadata": {},
   "outputs": [],
   "source": [
    "D = Discriminator().to(device)\n",
    "G = Generator().to(device)\n",
    "print(D)\n",
    "print(G)"
   ]
  },
  {
   "cell_type": "code",
   "execution_count": null,
   "metadata": {},
   "outputs": [],
   "source": [
    "X = torch.rand(1, 28, 28, device=device)\n",
    "logits = model(X)\n",
    "pred_probab = nn.Softmax(dim=1)(logits)\n",
    "y_pred = pred_probab.argmax(1)\n",
    "print(f\"Predicted class: {y_pred}\")"
   ]
  },
  {
   "cell_type": "code",
   "execution_count": null,
   "metadata": {},
   "outputs": [],
   "source": [
    "print(f\"Model structure: {model}\\n\\n\")\n",
    "\n",
    "for name, param in model.named_parameters():\n",
    "    print(f\"Layer: {name} | Size: {param.size()} | Values : {param[:2]} \\n\")"
   ]
  },
  {
   "attachments": {},
   "cell_type": "markdown",
   "metadata": {},
   "source": [
    "## Optimizing and Model Parameters"
   ]
  },
  {
   "attachments": {},
   "cell_type": "markdown",
   "metadata": {},
   "source": [
    "### Hyperparameters"
   ]
  },
  {
   "cell_type": "code",
   "execution_count": null,
   "metadata": {},
   "outputs": [],
   "source": [
    "learning_rate = 1e-4\n",
    "batch_size = 32\n",
    "epochs = 100"
   ]
  },
  {
   "attachments": {},
   "cell_type": "markdown",
   "metadata": {},
   "source": [
    "### Optimization Loop"
   ]
  },
  {
   "attachments": {},
   "cell_type": "markdown",
   "metadata": {},
   "source": [
    "##### Simple Neural Network"
   ]
  },
  {
   "cell_type": "code",
   "execution_count": null,
   "metadata": {},
   "outputs": [],
   "source": [
    "def train_loop(dataloader, model, loss_fn, optimizer):\n",
    "    model.train()\n",
    "    size = len(dataloader.dataset)\n",
    "    for batch, (X, y) in enumerate(dataloader):\n",
    "        # Compute prediction and loss\n",
    "        X = X.to(device)\n",
    "        pred = model(X).to(device)\n",
    "        y = y.to(device)\n",
    "        loss = loss_fn(pred, y)\n",
    "\n",
    "        # Backpropagation\n",
    "        optimizer.zero_grad()\n",
    "        loss.backward()\n",
    "        optimizer.step()\n",
    "        # print(f\"batch: {batch}, x: {X.size()}, y: {y.size()}\")\n",
    "        if batch % 100 == 0:\n",
    "            loss, current = loss.item(), batch * len(X)\n",
    "            print(f\"loss: {loss:>7f}  [{current:>5d}/{size:>5d}]\")\n",
    "\n",
    "\n",
    "def test_loop(dataloader, model, loss_fn):\n",
    "    model.eval()\n",
    "    size = len(dataloader.dataset)\n",
    "    num_batches = len(dataloader)\n",
    "    test_loss, correct = 0, 0\n",
    "\n",
    "    with torch.no_grad():\n",
    "        for batch, (X, y) in enumerate(dataloader):\n",
    "            X = X.to(device)\n",
    "            pred = model(X).to(device)\n",
    "            y = y.to(device)\n",
    "            test_loss += loss_fn(pred, y).item()\n",
    "            correct += (pred.argmax(1) == y.max(1).indices).type(torch.float).sum().item()\n",
    "\n",
    "    test_loss /= num_batches\n",
    "    correct /= size\n",
    "    print(f\"Test Error: \\n Accuracy: {(100*correct):>0.1f}%, Avg loss: {test_loss:>8f} \\n\")"
   ]
  },
  {
   "cell_type": "code",
   "execution_count": null,
   "metadata": {},
   "outputs": [],
   "source": [
    "loss_fn = nn.CrossEntropyLoss()\n",
    "optimizer = torch.optim.SGD(model.parameters(), lr=learning_rate)\n",
    "\n",
    "for t in range(epochs):\n",
    "    print(f\"Epoch {t+1}\\n-------------------------------\")\n",
    "    # model.train()\n",
    "    train_loop(train_dataloader, model, loss_fn, optimizer)\n",
    "    # model.eval()\n",
    "    # test_loop(test_dataloader, model, loss_fn)\n",
    "print(\"Done!\")"
   ]
  },
  {
   "attachments": {},
   "cell_type": "markdown",
   "metadata": {},
   "source": [
    "##### GAN"
   ]
  },
  {
   "cell_type": "code",
   "execution_count": null,
   "metadata": {},
   "outputs": [],
   "source": [
    "def denorm(x):\n",
    "    out = (x + 1) / 2\n",
    "    return out.clamp(0, 1)"
   ]
  },
  {
   "cell_type": "code",
   "execution_count": null,
   "metadata": {},
   "outputs": [],
   "source": [
    "def train_loop(dataloader, d_model, g_model, loss_fn, d_optimizer, g_optimizer, epoch):\n",
    "    d_model.train()\n",
    "    g_model.train()\n",
    "    size = len(dataloader.dataset)\n",
    "    for batch, (X, _) in enumerate(dataloader):\n",
    "        X = X.to(device)\n",
    "        real_labels = torch.ones(batch_size, 1).to(device)\n",
    "        fake_labels = torch.zeros(batch_size, 1).to(device)\n",
    "        #################\n",
    "        # Discriminator #\n",
    "        #################\n",
    "        # In the paper, they used 'for loop' in pseudo code\n",
    "        # Compute prediction and loss\n",
    "        pred_from_real = d_model(X).to(device)\n",
    "        d_real_loss = loss_fn(pred_from_real, real_labels)\n",
    "\n",
    "        z = torch.randn((batch_size, 64), device=device, requires_grad=True)\n",
    "        pred_from_fake = d_model(g_model(z)).to(device)\n",
    "        d_fake_loss = loss_fn(pred_from_fake, fake_labels)\n",
    "        \n",
    "        d_pred = pred_from_real + pred_from_fake # score\n",
    "        d_loss = d_real_loss + d_fake_loss\n",
    "        \n",
    "        # Backpropagation\n",
    "        d_optimizer.zero_grad()\n",
    "        g_optimizer.zero_grad()\n",
    "        d_loss.backward()\n",
    "        d_optimizer.step()\n",
    "        \n",
    "        #################\n",
    "        #   Generator   #\n",
    "        #################\n",
    "        \n",
    "        # Compute prediction and loss\n",
    "        z = torch.randn(batch_size, 64, device=device, requires_grad=True)\n",
    "        fake_img = g_model(z)\n",
    "        g_pred = d_model(fake_img).to(device)\n",
    "        g_loss = loss_fn(g_pred, real_labels)\n",
    "        \n",
    "        d_optimizer.zero_grad()\n",
    "        g_optimizer.zero_grad()\n",
    "        g_loss.backward()\n",
    "        g_optimizer.step()\n",
    "        \n",
    "        if batch == 0:\n",
    "            cols, rows = 8, 4\n",
    "            for i in range(cols * rows):\n",
    "                r = X[i]\n",
    "                f = fake_img[i]\n",
    "                figure = plt.figure(figsize=(16, 8))\n",
    "                real = denorm(r).cpu().detach().numpy().reshape(1,28,28)\n",
    "                figure.add_subplot(rows, cols, i+1)\n",
    "                plt.axis(\"off\")\n",
    "                plt.imshow(real.squeeze(), cmap=\"gray\")\n",
    "                plt.savefig(f'./plot/real_epoch_{epoch}.png')\n",
    "                figure = plt.figure(figsize=(16, 8))\n",
    "                fake = denorm(f).cpu().detach().numpy().reshape(1,28,28)\n",
    "                figure.add_subplot(rows, cols, i+1)\n",
    "                plt.axis(\"off\")\n",
    "                plt.imshow(fake.squeeze(), cmap=\"gray\")\n",
    "                plt.savefig(f'./plot/fake_epoch_{epoch}.png')\n",
    "                \n",
    "        \n",
    "        # print(f\"batch: {batch}, x: {X.size()}, y: {y.size()}\")\n",
    "        if batch % 100 == 0:\n",
    "            # print(type(d_loss))\n",
    "            current = (batch+1) * len(X)\n",
    "            print(f\"d_loss: {d_loss}, g_loss: {g_loss}   [{current:>5d}/{size:>5d}]\")\n",
    "            \n",
    "        \n",
    "\n",
    "\n",
    "def test_loop(dataloader, d_model, g_model, loss_fn, d_optimizer, g_optimizer):\n",
    "    d_model.eval()\n",
    "    g_model.eval()\n",
    "    size = len(dataloader.dataset)\n",
    "    num_batches = len(dataloader)\n",
    "    test_loss, correct = 0, 0\n",
    "\n",
    "    with torch.no_grad():\n",
    "        for batch, (X, _) in enumerate(dataloader):\n",
    "            if batch == 0:\n",
    "                X = X.to(device)\n",
    "                real_pred = d_model(X).to(device)\n",
    "                \n",
    "                z = torch.randn(batch_size, 64, device=device)\n",
    "                fake_img = g_model(z).to(device)\n",
    "                fake_pred = d_model(fake_img).to(device)\n",
    "            else:\n",
    "                continue"
   ]
  },
  {
   "cell_type": "code",
   "execution_count": null,
   "metadata": {},
   "outputs": [],
   "source": [
    "import matplotlib.pyplot as plt\n",
    "figure = plt.figure(figsize=(8, 8))\n",
    "cols, rows = 3, 3\n",
    "for i in range(1, cols * rows+1):\n",
    "    # sample_idx = torch.randint(len(training_data), size=(1,)).item()\n",
    "    sample_idx = torch.tensor([i+100])\n",
    "    img, label = training_data[sample_idx]\n",
    "    figure.add_subplot(rows, cols, i)\n",
    "    plt.title(label)\n",
    "    plt.axis(\"off\")\n",
    "    plt.imshow(img.squeeze(), cmap=\"gray\")\n",
    "plt.show()"
   ]
  },
  {
   "cell_type": "code",
   "execution_count": null,
   "metadata": {},
   "outputs": [],
   "source": [
    "loss_fn = nn.BCELoss()\n",
    "discriminator_optimizer = torch.optim.SGD(D.parameters(), lr=learning_rate)\n",
    "generator_optimizer = torch.optim.SGD(G.parameters(), lr=learning_rate)\n",
    "for t in range(epochs):\n",
    "    print(f\"Epoch {t+1}\\n-------------------------------\")\n",
    "    # model.train()\n",
    "    train_loop(train_dataloader, D, G, loss_fn, discriminator_optimizer, generator_optimizer, t)\n",
    "    torch.save(D.state_dict(),f\"./result/discriminator_epoch_{epochs}\")\n",
    "    torch.save(D.state_dict(),f\"./result/generator_epoch_{epochs}\")\n",
    "    # model.eval()\n",
    "    # test_loop(test_dataloader, model, loss_fn)\n",
    "print(\"Done!\")"
   ]
  },
  {
   "cell_type": "code",
   "execution_count": null,
   "metadata": {},
   "outputs": [],
   "source": []
  }
 ],
 "metadata": {
  "kernelspec": {
   "display_name": "ai_env",
   "language": "python",
   "name": "python3"
  },
  "language_info": {
   "codemirror_mode": {
    "name": "ipython",
    "version": 3
   },
   "file_extension": ".py",
   "mimetype": "text/x-python",
   "name": "python",
   "nbconvert_exporter": "python",
   "pygments_lexer": "ipython3",
   "version": "3.9.15"
  },
  "orig_nbformat": 4,
  "vscode": {
   "interpreter": {
    "hash": "bf814a7d7f7678a8782107eccf8ed4be5b91f2df67a169dae8657527f726006e"
   }
  }
 },
 "nbformat": 4,
 "nbformat_minor": 2
}
