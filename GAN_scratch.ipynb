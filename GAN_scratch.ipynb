{
 "cells": [
  {
   "attachments": {},
   "cell_type": "markdown",
   "metadata": {},
   "source": [
    "## GAN from Scratch"
   ]
  },
  {
   "attachments": {},
   "cell_type": "markdown",
   "metadata": {},
   "source": [
    "### Import Libraries"
   ]
  },
  {
   "cell_type": "code",
   "execution_count": 1,
   "metadata": {},
   "outputs": [],
   "source": [
    "import torch \n",
    "from torch import nn\n",
    "from torch.utils.data import DataLoader\n",
    "from torch.utils.data import Dataset\n",
    "from torchvision import datasets\n",
    "import torchvision.transforms as T # Transformation functions to manipulate images\n",
    "\n",
    "import torch.nn.functional as F # various activation functions for model\n",
    "import torchvision # You can load various Pretrained Model from this package \n",
    "# import torchvision.datasets as vision_dsets\n",
    "import torch.optim as optim # various optimization functions for model\n",
    "from torch.autograd import Variable \n",
    "# from torch.utils import data"
   ]
  },
  {
   "cell_type": "code",
   "execution_count": 2,
   "metadata": {},
   "outputs": [],
   "source": [
    "import os\n",
    "import numpy as np"
   ]
  },
  {
   "attachments": {},
   "cell_type": "markdown",
   "metadata": {},
   "source": [
    "### Visualization Setup"
   ]
  },
  {
   "cell_type": "code",
   "execution_count": 3,
   "metadata": {},
   "outputs": [
    {
     "name": "stdout",
     "output_type": "stream",
     "text": [
      "Randon Seed: 999\n"
     ]
    }
   ],
   "source": [
    "import random\n",
    "import torch.backends.cudnn as cudnn\n",
    "random_seed = 999\n",
    "print(f\"Randon Seed: {random_seed}\")\n",
    "random.seed(random_seed)\n",
    "torch.manual_seed(random_seed)\n",
    "torch.cuda.manual_seed(random_seed)\n",
    "torch.cuda.manual_seed_all(random_seed) # if use multi-GPU\n",
    "cudnn.benchmark = False\n",
    "cudnn.deterministic = True\n",
    "np.random.seed(random_seed) # for numpy-based backend, scikit-learn"
   ]
  },
  {
   "attachments": {},
   "cell_type": "markdown",
   "metadata": {},
   "source": [
    "### Dataset Preprocessing"
   ]
  },
  {
   "cell_type": "code",
   "execution_count": 4,
   "metadata": {},
   "outputs": [],
   "source": [
    "MNIST_dir = \"../MNIST/\"\n",
    "train_imgs_dir = os.path.join(MNIST_dir, 'train-images-idx3-ubyte')\n",
    "train_labels_dir = os.path.join(MNIST_dir, 'train-labels-idx1-ubyte')\n",
    "test_imgs_dir = os.path.join(MNIST_dir, 't10k-images-idx3-ubyte')\n",
    "test_labels_dir = os.path.join(MNIST_dir, 't10k-labels-idx1-ubyte')"
   ]
  },
  {
   "cell_type": "code",
   "execution_count": null,
   "metadata": {},
   "outputs": [],
   "source": [
    "'''\n",
    "import struct\n",
    "import matplotlib.pyplot as plt\n",
    "import matplotlib.cm as cm\n",
    "\n",
    "train_imgs_file = open(train_imgs_dir,'rb')\n",
    "train_labels_file = open(train_labels_dir,'rb')\n",
    "train_img = np.zeros((28,28))\n",
    "train_label = -1\n",
    "img = train_imgs_file.read(16)\n",
    "label = train_labels_file.read(8)\n",
    "\n",
    "img = train_imgs_file.read(28*28)\n",
    "img = np.reshape(struct.unpack(len(img)*'B',img), (28,28))\n",
    "label = train_labels_file.read(1)\n",
    "\n",
    "plt.imshow(img, cmap='gray') \n",
    "plt.show()\n",
    "'''"
   ]
  },
  {
   "attachments": {},
   "cell_type": "markdown",
   "metadata": {},
   "source": [
    "### Custom Dataset"
   ]
  },
  {
   "cell_type": "code",
   "execution_count": null,
   "metadata": {},
   "outputs": [],
   "source": [
    "# import os\n",
    "import pandas as pd\n",
    "import struct\n",
    "\n",
    "class MNISTDataset(Dataset):\n",
    "    def __init__(self, imgs_dir, labels_dir, len, transform=None, target_transform=None):\n",
    "        # open file\n",
    "        self.imgs_file = open(imgs_dir,'rb')\n",
    "        self.labels_file = open(labels_dir,'rb')\n",
    "        # initialize\n",
    "        self.image = np.zeros((28,28))\n",
    "        self.label = -1\n",
    "        img = self.imgs_file.read(16)\n",
    "        label = self.labels_file.read(8)\n",
    "        self.len = len\n",
    "        self.transform = transform\n",
    "        self.target_transform = target_transform\n",
    "\n",
    "    def __len__(self):\n",
    "        # return length\n",
    "        # usually directly calculated from csv idx length\n",
    "        return self.len\n",
    "\n",
    "    def __getitem__(self, idx):\n",
    "        # convert file format (be careful!)\n",
    "        i = self.imgs_file.read(28*28)\n",
    "        i = np.reshape(struct.unpack(len(i)*'B',i), (28,28))\n",
    "        img = i.astype(np.uint8)\n",
    "        label = int.from_bytes(self.labels_file.read(1),'big')\n",
    "        if self.transform:\n",
    "            img = self.transform(img)\n",
    "        if self.target_transform:\n",
    "            label = self.target_transform(label)\n",
    "        return img, label"
   ]
  },
  {
   "cell_type": "code",
   "execution_count": 49,
   "metadata": {},
   "outputs": [],
   "source": [
    "import pandas as pd\n",
    "import struct\n",
    "\n",
    "class MNISTDataset(Dataset):\n",
    "    def __init__(self, imgs_dir, labels_dir, len, transform=None, target_transform=None):\n",
    "        # open file\n",
    "        self.imgs_file = open(imgs_dir,'rb')\n",
    "        self.labels_file = open(labels_dir,'rb')\n",
    "        # initialize\n",
    "        dummy_imgs = self.imgs_file.read(16)\n",
    "        dummy_labels = self.labels_file.read(8)\n",
    "        imgs = self.imgs_file.read()\n",
    "        labels = self.labels_file.read()\n",
    "        # self.imgs = np.reshape(struct.unpack(len(imgs)*'B',imgs), (-1,28,28))\n",
    "        self.imgs = np.frombuffer(imgs, dtype=np.uint8).reshape((-1,28,28))\n",
    "        self.labels = np.frombuffer(labels,dtype=np.uint8)\n",
    "        self.len = len\n",
    "        self.transform = transform\n",
    "        self.target_transform = target_transform\n",
    "\n",
    "    def __len__(self):\n",
    "        # return length\n",
    "        # usually directly calculated from csv idx length\n",
    "        return self.len\n",
    "\n",
    "    def __getitem__(self, idx):\n",
    "        # convert file format (be careful!)\n",
    "        img = self.imgs[idx].astype(np.uint8)\n",
    "        label = int(self.labels[idx])\n",
    "        if self.transform:\n",
    "            img = self.transform(img)\n",
    "        if self.target_transform:\n",
    "            label = self.target_transform(label)\n",
    "        return img, label"
   ]
  },
  {
   "attachments": {},
   "cell_type": "markdown",
   "metadata": {},
   "source": [
    "### Transform"
   ]
  },
  {
   "cell_type": "code",
   "execution_count": 50,
   "metadata": {},
   "outputs": [],
   "source": [
    "# PIL image or numpy array(uint8) -> float tensor ; change intensity in range [0.0, 1.1] (include normalizing)\n",
    "# For data aug and transforming, we can include many transform functions using nn.Sequential\n",
    "# Normalization is depend on channel (RGB)\n",
    "transform = T.ToTensor()\n",
    "# one-hot-vector ; make zero tensor and assign 1 on the index given by the label y\n",
    "target_transform = T.Lambda(lambda y: torch.zeros(10, dtype=torch.float).scatter_(0,torch.tensor(y),value=1))\n",
    "\n",
    "training_data = MNISTDataset(train_imgs_dir, train_labels_dir, 60000, transform, target_transform)\n",
    "test_data = MNISTDataset(test_imgs_dir, test_labels_dir, 10000, transform, target_transform)"
   ]
  },
  {
   "cell_type": "code",
   "execution_count": 51,
   "metadata": {},
   "outputs": [
    {
     "name": "stdout",
     "output_type": "stream",
     "text": [
      "(60000, 28, 28)\n",
      "(60000,)\n"
     ]
    },
    {
     "data": {
      "text/plain": [
       "numpy.uint8"
      ]
     },
     "execution_count": 51,
     "metadata": {},
     "output_type": "execute_result"
    }
   ],
   "source": [
    "print(training_data.imgs.shape)\n",
    "print(training_data.labels.shape)\n",
    "type(training_data.labels[0])"
   ]
  },
  {
   "attachments": {},
   "cell_type": "markdown",
   "metadata": {},
   "source": [
    "### Iterating and Visulaizing the Dataset"
   ]
  },
  {
   "cell_type": "code",
   "execution_count": 23,
   "metadata": {},
   "outputs": [
    {
     "ename": "NameError",
     "evalue": "name 'plt' is not defined",
     "output_type": "error",
     "traceback": [
      "\u001b[0;31m---------------------------------------------------------------------------\u001b[0m",
      "\u001b[0;31mNameError\u001b[0m                                 Traceback (most recent call last)",
      "Cell \u001b[0;32mIn[23], line 1\u001b[0m\n\u001b[0;32m----> 1\u001b[0m figure \u001b[39m=\u001b[39m plt\u001b[39m.\u001b[39mfigure(figsize\u001b[39m=\u001b[39m(\u001b[39m8\u001b[39m, \u001b[39m8\u001b[39m))\n\u001b[1;32m      2\u001b[0m cols, rows \u001b[39m=\u001b[39m \u001b[39m3\u001b[39m, \u001b[39m3\u001b[39m\n\u001b[1;32m      3\u001b[0m \u001b[39mfor\u001b[39;00m i \u001b[39min\u001b[39;00m \u001b[39mrange\u001b[39m(\u001b[39m1\u001b[39m, cols \u001b[39m*\u001b[39m rows \u001b[39m+\u001b[39m \u001b[39m1\u001b[39m):\n\u001b[1;32m      4\u001b[0m     \u001b[39m# sample_idx = torch.randint(len(training_data), size=(1,)).item()\u001b[39;00m\n",
      "\u001b[0;31mNameError\u001b[0m: name 'plt' is not defined"
     ]
    }
   ],
   "source": [
    "figure = plt.figure(figsize=(8, 8))\n",
    "cols, rows = 3, 3\n",
    "for i in range(1, cols * rows + 1):\n",
    "    # sample_idx = torch.randint(len(training_data), size=(1,)).item()\n",
    "    sample_idx = torch.tensor([i+100])\n",
    "    img, label = training_data[sample_idx]\n",
    "    figure.add_subplot(rows, cols, i)\n",
    "    plt.title(label)\n",
    "    plt.axis(\"off\")\n",
    "    plt.imshow(img.squeeze(), cmap=\"gray\")\n",
    "plt.show()"
   ]
  },
  {
   "cell_type": "code",
   "execution_count": 52,
   "metadata": {},
   "outputs": [
    {
     "name": "stdout",
     "output_type": "stream",
     "text": [
      "tensor([0., 0., 0., 0., 0., 0., 1., 0., 0., 0.])\n"
     ]
    }
   ],
   "source": [
    "img, label = training_data[5990]\n",
    "print(label)"
   ]
  },
  {
   "attachments": {},
   "cell_type": "markdown",
   "metadata": {},
   "source": [
    "### Dataloader"
   ]
  },
  {
   "cell_type": "code",
   "execution_count": 53,
   "metadata": {},
   "outputs": [],
   "source": [
    "from torch.utils.data import DataLoader\n",
    "\n",
    "train_dataloader = DataLoader(training_data, batch_size=32, shuffle=True)\n",
    "test_dataloader = DataLoader(test_data, batch_size=32, shuffle=False) # don't need to shuffle ; model.eval()"
   ]
  },
  {
   "cell_type": "code",
   "execution_count": null,
   "metadata": {},
   "outputs": [],
   "source": [
    "'''\n",
    "# Display image and label.\n",
    "train_features, train_labels = next(iter(train_dataloader))\n",
    "print(f\"Feature batch shape: {train_features.size()}\")\n",
    "print(f\"Labels batch shape: {train_labels.size()}\")\n",
    "img = train_features[0].squeeze()\n",
    "# print(img)\n",
    "label = train_labels[0]\n",
    "plt.imshow(img, cmap=\"gray\")\n",
    "plt.show()\n",
    "print(f\"Label: {label}\")\n",
    "'''"
   ]
  },
  {
   "attachments": {},
   "cell_type": "markdown",
   "metadata": {},
   "source": [
    "### Build the Network"
   ]
  },
  {
   "cell_type": "code",
   "execution_count": 54,
   "metadata": {},
   "outputs": [
    {
     "name": "stdout",
     "output_type": "stream",
     "text": [
      "Using cuda device\n"
     ]
    }
   ],
   "source": [
    "device = \"cuda\" if torch.cuda.is_available() else \"cpu\"\n",
    "print(f\"Using {device} device\")"
   ]
  },
  {
   "cell_type": "code",
   "execution_count": 55,
   "metadata": {},
   "outputs": [],
   "source": [
    "class NeuralNetwork(nn.Module):\n",
    "    def __init__(self):\n",
    "        super(NeuralNetwork, self).__init__()\n",
    "        self.flatten = nn.Flatten()\n",
    "        self.linear_relu_stack = nn.Sequential(\n",
    "            nn.Linear(28*28, 512),\n",
    "            nn.ReLU(),\n",
    "            nn.Linear(512, 512),\n",
    "            nn.ReLU(),\n",
    "            nn.Linear(512, 10),\n",
    "        )\n",
    "\n",
    "    def forward(self, x):\n",
    "        x = self.flatten(x)\n",
    "        logits = self.linear_relu_stack(x)\n",
    "        return logits"
   ]
  },
  {
   "cell_type": "code",
   "execution_count": 56,
   "metadata": {},
   "outputs": [
    {
     "name": "stdout",
     "output_type": "stream",
     "text": [
      "NeuralNetwork(\n",
      "  (flatten): Flatten(start_dim=1, end_dim=-1)\n",
      "  (linear_relu_stack): Sequential(\n",
      "    (0): Linear(in_features=784, out_features=512, bias=True)\n",
      "    (1): ReLU()\n",
      "    (2): Linear(in_features=512, out_features=512, bias=True)\n",
      "    (3): ReLU()\n",
      "    (4): Linear(in_features=512, out_features=10, bias=True)\n",
      "  )\n",
      ")\n"
     ]
    }
   ],
   "source": [
    "model = NeuralNetwork().to(device)\n",
    "print(model)"
   ]
  },
  {
   "cell_type": "code",
   "execution_count": 57,
   "metadata": {},
   "outputs": [
    {
     "data": {
      "text/plain": [
       "'\\nX = torch.rand(1, 28, 28, device=device)\\nlogits = model(X)\\npred_probab = nn.Softmax(dim=1)(logits)\\ny_pred = pred_probab.argmax(1)\\nprint(f\"Predicted class: {y_pred}\")\\n'"
      ]
     },
     "execution_count": 57,
     "metadata": {},
     "output_type": "execute_result"
    }
   ],
   "source": [
    "'''\n",
    "X = torch.rand(1, 28, 28, device=device)\n",
    "logits = model(X)\n",
    "pred_probab = nn.Softmax(dim=1)(logits)\n",
    "y_pred = pred_probab.argmax(1)\n",
    "print(f\"Predicted class: {y_pred}\")\n",
    "'''"
   ]
  },
  {
   "cell_type": "code",
   "execution_count": 58,
   "metadata": {},
   "outputs": [
    {
     "name": "stdout",
     "output_type": "stream",
     "text": [
      "Model structure: NeuralNetwork(\n",
      "  (flatten): Flatten(start_dim=1, end_dim=-1)\n",
      "  (linear_relu_stack): Sequential(\n",
      "    (0): Linear(in_features=784, out_features=512, bias=True)\n",
      "    (1): ReLU()\n",
      "    (2): Linear(in_features=512, out_features=512, bias=True)\n",
      "    (3): ReLU()\n",
      "    (4): Linear(in_features=512, out_features=10, bias=True)\n",
      "  )\n",
      ")\n",
      "\n",
      "\n",
      "Layer: linear_relu_stack.0.weight | Size: torch.Size([512, 784]) | Values : tensor([[ 0.0305,  0.0011,  0.0150,  ...,  0.0066, -0.0111, -0.0283],\n",
      "        [-0.0222,  0.0069,  0.0205,  ..., -0.0180, -0.0069, -0.0185]],\n",
      "       device='cuda:0', grad_fn=<SliceBackward0>) \n",
      "\n",
      "Layer: linear_relu_stack.0.bias | Size: torch.Size([512]) | Values : tensor([0.0028, 0.0324], device='cuda:0', grad_fn=<SliceBackward0>) \n",
      "\n",
      "Layer: linear_relu_stack.2.weight | Size: torch.Size([512, 512]) | Values : tensor([[ 0.0146, -0.0362,  0.0071,  ..., -0.0154, -0.0428,  0.0050],\n",
      "        [ 0.0438, -0.0422,  0.0023,  ..., -0.0004,  0.0371, -0.0198]],\n",
      "       device='cuda:0', grad_fn=<SliceBackward0>) \n",
      "\n",
      "Layer: linear_relu_stack.2.bias | Size: torch.Size([512]) | Values : tensor([0.0397, 0.0202], device='cuda:0', grad_fn=<SliceBackward0>) \n",
      "\n",
      "Layer: linear_relu_stack.4.weight | Size: torch.Size([10, 512]) | Values : tensor([[ 0.0132,  0.0183,  0.0245,  ...,  0.0200,  0.0437, -0.0433],\n",
      "        [-0.0102, -0.0309,  0.0190,  ...,  0.0087, -0.0064, -0.0081]],\n",
      "       device='cuda:0', grad_fn=<SliceBackward0>) \n",
      "\n",
      "Layer: linear_relu_stack.4.bias | Size: torch.Size([10]) | Values : tensor([0.0321, 0.0075], device='cuda:0', grad_fn=<SliceBackward0>) \n",
      "\n"
     ]
    }
   ],
   "source": [
    "print(f\"Model structure: {model}\\n\\n\")\n",
    "\n",
    "for name, param in model.named_parameters():\n",
    "    print(f\"Layer: {name} | Size: {param.size()} | Values : {param[:2]} \\n\")"
   ]
  },
  {
   "attachments": {},
   "cell_type": "markdown",
   "metadata": {},
   "source": [
    "## Optimizing and Model Parameters"
   ]
  },
  {
   "attachments": {},
   "cell_type": "markdown",
   "metadata": {},
   "source": [
    "### Hyperparameters"
   ]
  },
  {
   "cell_type": "code",
   "execution_count": 59,
   "metadata": {},
   "outputs": [],
   "source": [
    "learning_rate = 1e-3\n",
    "batch_size = 32\n",
    "epochs = 5"
   ]
  },
  {
   "attachments": {},
   "cell_type": "markdown",
   "metadata": {},
   "source": [
    "### Optimization Loop"
   ]
  },
  {
   "cell_type": "code",
   "execution_count": 79,
   "metadata": {},
   "outputs": [],
   "source": [
    "def train_loop(dataloader, model, loss_fn, optimizer):\n",
    "    model.train()\n",
    "    size = len(dataloader.dataset)\n",
    "    for batch, (X, y) in enumerate(dataloader):\n",
    "        # Compute prediction and loss\n",
    "        X = X.to(device)\n",
    "        pred = model(X).to(device)\n",
    "        y = y.to(device)\n",
    "        loss = loss_fn(pred, y)\n",
    "\n",
    "        # Backpropagation\n",
    "        optimizer.zero_grad()\n",
    "        loss.backward()\n",
    "        optimizer.step()\n",
    "        # print(f\"batch: {batch}, x: {X.size()}, y: {y.size()}\")\n",
    "        if batch % 100 == 0:\n",
    "            loss, current = loss.item(), batch * len(X)\n",
    "            print(f\"loss: {loss:>7f}  [{current:>5d}/{size:>5d}]\")\n",
    "\n",
    "\n",
    "def test_loop(dataloader, model, loss_fn):\n",
    "    model.eval()\n",
    "    size = len(dataloader.dataset)\n",
    "    num_batches = len(dataloader)\n",
    "    test_loss, correct = 0, 0\n",
    "\n",
    "    with torch.no_grad():\n",
    "        for batch, (X, y) in enumerate(dataloader):\n",
    "            X = X.to(device)\n",
    "            pred = model(X).to(device)\n",
    "            y = y.to(device)\n",
    "            test_loss += loss_fn(pred, y).item()\n",
    "            correct += (pred.argmax(1) == y.max(1).indices).type(torch.float).sum().item()\n",
    "\n",
    "    test_loss /= num_batches\n",
    "    correct /= size\n",
    "    print(f\"Test Error: \\n Accuracy: {(100*correct):>0.1f}%, Avg loss: {test_loss:>8f} \\n\")"
   ]
  },
  {
   "cell_type": "code",
   "execution_count": 80,
   "metadata": {},
   "outputs": [
    {
     "name": "stdout",
     "output_type": "stream",
     "text": [
      "Epoch 1\n",
      "-------------------------------\n",
      "loss: 1.865969  [    0/60000]\n",
      "loss: 1.895601  [ 3200/60000]\n",
      "loss: 1.846244  [ 6400/60000]\n",
      "loss: 1.827845  [ 9600/60000]\n",
      "loss: 1.714645  [12800/60000]\n",
      "loss: 1.682227  [16000/60000]\n",
      "loss: 1.652585  [19200/60000]\n",
      "loss: 1.612659  [22400/60000]\n",
      "loss: 1.740344  [25600/60000]\n",
      "loss: 1.600793  [28800/60000]\n",
      "loss: 1.614352  [32000/60000]\n",
      "loss: 1.628732  [35200/60000]\n",
      "loss: 1.545228  [38400/60000]\n",
      "loss: 1.401749  [41600/60000]\n",
      "loss: 1.501090  [44800/60000]\n",
      "loss: 1.434402  [48000/60000]\n",
      "loss: 1.202066  [51200/60000]\n",
      "loss: 1.147357  [54400/60000]\n",
      "loss: 1.107255  [57600/60000]\n",
      "Test Error: \n",
      " Accuracy: 76.1%, Avg loss: 1.234715 \n",
      "\n",
      "Epoch 2\n",
      "-------------------------------\n",
      "loss: 1.270793  [    0/60000]\n",
      "loss: 1.262928  [ 3200/60000]\n",
      "loss: 1.119214  [ 6400/60000]\n",
      "loss: 1.355643  [ 9600/60000]\n",
      "loss: 1.146796  [12800/60000]\n",
      "loss: 1.251547  [16000/60000]\n",
      "loss: 1.241614  [19200/60000]\n",
      "loss: 0.853472  [22400/60000]\n",
      "loss: 1.063918  [25600/60000]\n",
      "loss: 0.915745  [28800/60000]\n",
      "loss: 1.013407  [32000/60000]\n",
      "loss: 0.961063  [35200/60000]\n",
      "loss: 0.906235  [38400/60000]\n",
      "loss: 0.783065  [41600/60000]\n",
      "loss: 0.955277  [44800/60000]\n",
      "loss: 0.914735  [48000/60000]\n",
      "loss: 0.739355  [51200/60000]\n",
      "loss: 0.837405  [54400/60000]\n",
      "loss: 0.826782  [57600/60000]\n",
      "Test Error: \n",
      " Accuracy: 81.2%, Avg loss: 0.817482 \n",
      "\n",
      "Epoch 3\n",
      "-------------------------------\n",
      "loss: 0.771557  [    0/60000]\n",
      "loss: 0.902645  [ 3200/60000]\n",
      "loss: 0.762251  [ 6400/60000]\n",
      "loss: 0.767122  [ 9600/60000]\n",
      "loss: 0.588153  [12800/60000]\n",
      "loss: 0.875939  [16000/60000]\n",
      "loss: 0.748192  [19200/60000]\n",
      "loss: 0.872872  [22400/60000]\n",
      "loss: 0.637240  [25600/60000]\n",
      "loss: 0.817391  [28800/60000]\n",
      "loss: 0.763636  [32000/60000]\n",
      "loss: 0.708791  [35200/60000]\n",
      "loss: 0.589660  [38400/60000]\n",
      "loss: 0.915162  [41600/60000]\n",
      "loss: 0.734355  [44800/60000]\n",
      "loss: 0.906534  [48000/60000]\n",
      "loss: 0.600708  [51200/60000]\n",
      "loss: 0.667881  [54400/60000]\n",
      "loss: 0.565849  [57600/60000]\n",
      "Test Error: \n",
      " Accuracy: 84.2%, Avg loss: 0.632481 \n",
      "\n",
      "Epoch 4\n",
      "-------------------------------\n",
      "loss: 0.629447  [    0/60000]\n",
      "loss: 0.332063  [ 3200/60000]\n",
      "loss: 0.550467  [ 6400/60000]\n",
      "loss: 0.691810  [ 9600/60000]\n",
      "loss: 0.411877  [12800/60000]\n",
      "loss: 0.653264  [16000/60000]\n",
      "loss: 0.507787  [19200/60000]\n",
      "loss: 0.654024  [22400/60000]\n",
      "loss: 0.635521  [25600/60000]\n",
      "loss: 0.731719  [28800/60000]\n",
      "loss: 0.388929  [32000/60000]\n",
      "loss: 0.567923  [35200/60000]\n",
      "loss: 0.484492  [38400/60000]\n",
      "loss: 0.529225  [41600/60000]\n",
      "loss: 0.606912  [44800/60000]\n",
      "loss: 0.593277  [48000/60000]\n",
      "loss: 0.486675  [51200/60000]\n",
      "loss: 0.618108  [54400/60000]\n",
      "loss: 0.422951  [57600/60000]\n",
      "Test Error: \n",
      " Accuracy: 86.1%, Avg loss: 0.535777 \n",
      "\n",
      "Epoch 5\n",
      "-------------------------------\n",
      "loss: 0.687713  [    0/60000]\n",
      "loss: 0.882581  [ 3200/60000]\n",
      "loss: 0.333773  [ 6400/60000]\n",
      "loss: 0.544749  [ 9600/60000]\n",
      "loss: 0.447996  [12800/60000]\n",
      "loss: 0.595054  [16000/60000]\n",
      "loss: 0.601991  [19200/60000]\n",
      "loss: 0.400718  [22400/60000]\n",
      "loss: 0.491082  [25600/60000]\n",
      "loss: 0.537964  [28800/60000]\n",
      "loss: 0.516254  [32000/60000]\n",
      "loss: 0.517291  [35200/60000]\n",
      "loss: 0.493853  [38400/60000]\n",
      "loss: 0.505920  [41600/60000]\n",
      "loss: 0.381610  [44800/60000]\n",
      "loss: 0.626759  [48000/60000]\n",
      "loss: 0.400307  [51200/60000]\n",
      "loss: 0.543712  [54400/60000]\n",
      "loss: 0.573841  [57600/60000]\n",
      "Test Error: \n",
      " Accuracy: 87.2%, Avg loss: 0.476776 \n",
      "\n",
      "Done!\n"
     ]
    }
   ],
   "source": [
    "loss_fn = nn.CrossEntropyLoss()\n",
    "optimizer = torch.optim.SGD(model.parameters(), lr=learning_rate)\n",
    "\n",
    "for t in range(epochs):\n",
    "    print(f\"Epoch {t+1}\\n-------------------------------\")\n",
    "    # model.train()\n",
    "    train_loop(train_dataloader, model, loss_fn, optimizer)\n",
    "    # model.eval()\n",
    "    test_loop(test_dataloader, model, loss_fn)\n",
    "print(\"Done!\")"
   ]
  },
  {
   "cell_type": "code",
   "execution_count": null,
   "metadata": {},
   "outputs": [],
   "source": []
  }
 ],
 "metadata": {
  "kernelspec": {
   "display_name": "ai_env",
   "language": "python",
   "name": "python3"
  },
  "language_info": {
   "codemirror_mode": {
    "name": "ipython",
    "version": 3
   },
   "file_extension": ".py",
   "mimetype": "text/x-python",
   "name": "python",
   "nbconvert_exporter": "python",
   "pygments_lexer": "ipython3",
   "version": "3.9.15"
  },
  "orig_nbformat": 4,
  "vscode": {
   "interpreter": {
    "hash": "bf814a7d7f7678a8782107eccf8ed4be5b91f2df67a169dae8657527f726006e"
   }
  }
 },
 "nbformat": 4,
 "nbformat_minor": 2
}
